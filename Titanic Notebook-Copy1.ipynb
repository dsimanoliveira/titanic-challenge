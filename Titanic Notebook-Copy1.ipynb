{
 "cells": [
  {
   "cell_type": "markdown",
   "id": "01fdf0af",
   "metadata": {},
   "source": [
    "# Importing data and important libraries"
   ]
  },
  {
   "cell_type": "code",
   "execution_count": 1,
   "id": "6615c945",
   "metadata": {},
   "outputs": [],
   "source": [
    "import pandas as pd\n",
    "import numpy as np\n",
    "import matplotlib.pyplot as plt\n",
    "import seaborn as sns\n",
    "%matplotlib inline"
   ]
  },
  {
   "cell_type": "code",
   "execution_count": 2,
   "id": "9c4bb9e0",
   "metadata": {},
   "outputs": [],
   "source": [
    "train_data = pd.read_csv('train.csv')\n",
    "# Creating train_df that will be used to be the final dataframe after all the modifications\n",
    "train_df = train_data.copy()"
   ]
  },
  {
   "cell_type": "markdown",
   "id": "3d0ba98f",
   "metadata": {},
   "source": [
    "# Cleaning and organizing data"
   ]
  },
  {
   "cell_type": "markdown",
   "id": "caf8216f",
   "metadata": {},
   "source": [
    "## Null Values"
   ]
  },
  {
   "cell_type": "markdown",
   "id": "44214e3c",
   "metadata": {},
   "source": [
    "### 1.Age"
   ]
  },
  {
   "cell_type": "code",
   "execution_count": null,
   "id": "eea052a3",
   "metadata": {},
   "outputs": [],
   "source": []
  }
 ],
 "metadata": {
  "kernelspec": {
   "display_name": "Python 3 (ipykernel)",
   "language": "python",
   "name": "python3"
  },
  "language_info": {
   "codemirror_mode": {
    "name": "ipython",
    "version": 3
   },
   "file_extension": ".py",
   "mimetype": "text/x-python",
   "name": "python",
   "nbconvert_exporter": "python",
   "pygments_lexer": "ipython3",
   "version": "3.11.4"
  }
 },
 "nbformat": 4,
 "nbformat_minor": 5
}
